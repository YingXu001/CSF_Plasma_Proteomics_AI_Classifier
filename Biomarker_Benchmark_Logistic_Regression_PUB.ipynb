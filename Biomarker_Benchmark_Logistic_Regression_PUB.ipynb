{
 "cells": [
  {
   "cell_type": "markdown",
   "id": "4460fe77-a394-4da3-90a9-61dde1aade12",
   "metadata": {},
   "source": [
    "### Data Loader"
   ]
  },
  {
   "cell_type": "code",
   "execution_count": 1,
   "id": "fd59abb6-9d34-42f2-adfa-6a75229e5913",
   "metadata": {},
   "outputs": [],
   "source": [
    "import numpy as np\n",
    "import pandas as pd\n",
    "from sklearn.decomposition import PCA, NMF\n",
    "from sklearn.preprocessing import StandardScaler\n",
    "from sklearn.cluster import KMeans\n",
    "from sklearn.cluster import SpectralClustering\n",
    "from sklearn.manifold import TSNE\n",
    "from sklearn.mixture import GaussianMixture\n",
    "from sklearn.mixture import BayesianGaussianMixture\n",
    "from sklearn.ensemble import RandomForestClassifier\n",
    "import matplotlib.pyplot as plt\n",
    "from sklearn.feature_selection import chi2\n",
    "from sklearn.feature_selection import f_classif\n",
    "from sklearn.preprocessing import LabelEncoder\n",
    "import seaborn as sns"
   ]
  },
  {
   "cell_type": "code",
   "execution_count": 2,
   "id": "4eb8e955-d625-4a87-80ad-85b10e50455a",
   "metadata": {},
   "outputs": [],
   "source": [
    "csf_data = pd.read_csv(\"merged_csf_cross_sectional_call_rate_pau_data_0205.xls\", low_memory=False)\n",
    "plasma_data = pd.read_csv(\"merged_plasma_cross_sectional_call_rate_data_0130.xls\", low_memory=False)"
   ]
  },
  {
   "cell_type": "code",
   "execution_count": 3,
   "id": "2ac5e08d-cdb0-4b77-9786-8ab2bc08383a",
   "metadata": {},
   "outputs": [
    {
     "data": {
      "text/plain": [
       "Status_at_draw_mapping\n",
       "AD     744\n",
       "PD     738\n",
       "CO     665\n",
       "FTD     46\n",
       "DLB     37\n",
       "Name: count, dtype: int64"
      ]
     },
     "execution_count": 3,
     "metadata": {},
     "output_type": "execute_result"
    }
   ],
   "source": [
    "csf_data['Status_at_draw_mapping'].value_counts()\n",
    "# csf_data['Status_at_draw'].value_counts()"
   ]
  },
  {
   "cell_type": "code",
   "execution_count": 4,
   "id": "97350383-561f-409e-9ddc-98e24929eb98",
   "metadata": {},
   "outputs": [],
   "source": [
    "csf_significant_rows = pd.read_csv(\"csf_significant_rows_0205.csv\")\n",
    "plasma_significant_rows = pd.read_csv(\"plasma_significant_rows_0203.csv\")"
   ]
  },
  {
   "cell_type": "code",
   "execution_count": null,
   "id": "833788d0-2c67-4255-9f04-806efb80381d",
   "metadata": {},
   "outputs": [],
   "source": []
  },
  {
   "cell_type": "code",
   "execution_count": null,
   "id": "f6972e57-b1aa-4e4c-b3c9-42205bdbd4e5",
   "metadata": {},
   "outputs": [],
   "source": []
  },
  {
   "cell_type": "markdown",
   "id": "cb450d88-fe3f-45fa-baba-c88de08255a4",
   "metadata": {},
   "source": [
    "### Fill in the missing Values"
   ]
  },
  {
   "cell_type": "code",
   "execution_count": 48,
   "id": "f8eb5f57-5f0b-48d5-9399-fd7fb094e472",
   "metadata": {},
   "outputs": [
    {
     "name": "stdout",
     "output_type": "stream",
     "text": [
      "(4677, 3667)\n"
     ]
    }
   ],
   "source": [
    "data = csf_data\n",
    "print(data.shape)"
   ]
  },
  {
   "cell_type": "code",
   "execution_count": 49,
   "id": "a646bc51-d49b-41ea-aac5-d7da36877e21",
   "metadata": {},
   "outputs": [
    {
     "data": {
      "text/plain": [
       "3622"
      ]
     },
     "execution_count": 49,
     "metadata": {},
     "output_type": "execute_result"
    }
   ],
   "source": [
    "x_columns = [col for col in csf_data.columns if col.startswith('X')]\n",
    "len(x_columns)"
   ]
  },
  {
   "cell_type": "code",
   "execution_count": 50,
   "id": "42a18fc8-f5f0-45e7-8083-19eeb9b951ce",
   "metadata": {},
   "outputs": [
    {
     "name": "stdout",
     "output_type": "stream",
     "text": [
      "3020\n"
     ]
    }
   ],
   "source": [
    "protein_list = list(csf_significant_rows['Analytes'])\n",
    "print(len(protein_list))\n",
    "# protein_list"
   ]
  },
  {
   "cell_type": "code",
   "execution_count": 51,
   "id": "38712f18-0f9b-4335-9941-020307c25665",
   "metadata": {},
   "outputs": [
    {
     "data": {
      "text/plain": [
       "Status_at_draw_mapping\n",
       "AD     744\n",
       "PD     738\n",
       "CO     665\n",
       "FTD     46\n",
       "DLB     37\n",
       "Name: count, dtype: int64"
      ]
     },
     "execution_count": 51,
     "metadata": {},
     "output_type": "execute_result"
    }
   ],
   "source": [
    "data['Status_at_draw_mapping'].value_counts()"
   ]
  },
  {
   "cell_type": "code",
   "execution_count": 52,
   "id": "9ddd8426-a449-4667-8f47-6d08f436fdd3",
   "metadata": {},
   "outputs": [
    {
     "data": {
      "text/plain": [
       "(2230, 3667)"
      ]
     },
     "execution_count": 52,
     "metadata": {},
     "output_type": "execute_result"
    }
   ],
   "source": [
    "statuses_to_keep = ['CO', 'AD', 'PD', 'FTD', 'DLB']\n",
    "# statuses_to_keep = ['CO', 'AD', 'PD', 'Prodromal', 'ADAD']\n",
    "\n",
    "filtered_data = data[data['Status_at_draw_mapping'].isin(statuses_to_keep)]\n",
    "# filtered_data = data[data['Status_at_draw'].isin(statuses_to_keep)]\n",
    "\n",
    "filtered_data.shape"
   ]
  },
  {
   "cell_type": "code",
   "execution_count": 53,
   "id": "737230d1-a558-408f-997a-6bdbf1cdac47",
   "metadata": {},
   "outputs": [
    {
     "name": "stdout",
     "output_type": "stream",
     "text": [
      "['UniquePhenoID', 'DrawDate', 'Project_x', 'Project_y', 'Age_at_draw', 'Sex', 'AT_class', 'PET_imaging', 'T1_pTau217', 'T2_pTau181', 'Status_at_draw_mapping', 'Status_at_draw', 'Final_Status']\n"
     ]
    },
    {
     "data": {
      "text/plain": [
       "(2230, 3033)"
      ]
     },
     "execution_count": 53,
     "metadata": {},
     "output_type": "execute_result"
    }
   ],
   "source": [
    "filtered_data = filtered_data.rename(columns={'final_decision': 'PET_imaging'})\n",
    "\n",
    "columns_to_keep = ['UniquePhenoID', 'DrawDate', 'Project_x', 'Project_y', 'Age_at_draw', 'Sex', 'AT_class', 'PET_imaging', 'T1_pTau217',\n",
    "       'T2_pTau181', 'Status_at_draw_mapping', 'Status_at_draw', 'Final_Status']\n",
    "print(columns_to_keep)\n",
    "\n",
    "selected_protein_columns = [col for col in data.columns if col in protein_list]\n",
    "\n",
    "selected_columns = list(columns_to_keep) + selected_protein_columns\n",
    "\n",
    "selected_data = filtered_data[selected_columns]\n",
    "\n",
    "selected_data.shape"
   ]
  },
  {
   "cell_type": "code",
   "execution_count": 54,
   "id": "1c745c9b-cf81-436a-9659-80b059db5621",
   "metadata": {},
   "outputs": [
    {
     "name": "stderr",
     "output_type": "stream",
     "text": [
      "C:\\Users\\x.ying1\\AppData\\Local\\Temp\\ipykernel_31680\\3170815002.py:2: FutureWarning: DataFrame.applymap has been deprecated. Use DataFrame.map instead.\n",
      "  non_float_columns = selected_data.iloc[:,13:].applymap(lambda x: isinstance(x, (float, int))).all() == False\n"
     ]
    },
    {
     "name": "stdout",
     "output_type": "stream",
     "text": [
      "All columns are float type.\n"
     ]
    }
   ],
   "source": [
    "# Check which columns contain non-float values\n",
    "non_float_columns = selected_data.iloc[:,13:].applymap(lambda x: isinstance(x, (float, int))).all() == False\n",
    "non_float_columns_indices = non_float_columns[non_float_columns].index\n",
    "\n",
    "if not non_float_columns_indices.empty:\n",
    "    print(f\"Columns with non-float values: {list(non_float_columns_indices)}\")\n",
    "else:\n",
    "    print(\"All columns are float type.\")"
   ]
  },
  {
   "cell_type": "code",
   "execution_count": 55,
   "id": "80786098-4f87-42cc-91fa-d67a3b99d9cc",
   "metadata": {},
   "outputs": [
    {
     "name": "stdout",
     "output_type": "stream",
     "text": [
      "Total number of NA values in selected_data: 128392\n",
      "Columns with NA values and their counts:\n",
      "X10521.10      13\n",
      "X11368.32      20\n",
      "X11425.31      32\n",
      "X8535.102      27\n",
      "X5648.28       24\n",
      "             ... \n",
      "X12348.46       7\n",
      "X12551.3      102\n",
      "X9898.161      37\n",
      "X8845.2        30\n",
      "X12904.180     33\n",
      "Length: 3015, dtype: int64\n"
     ]
    }
   ],
   "source": [
    "# Check for NA values in selected_data\n",
    "na_counts = selected_data.iloc[:,13:].isna().sum()\n",
    "\n",
    "# Get columns with NA values\n",
    "na_columns = na_counts[na_counts > 0]\n",
    "\n",
    "# Print the total number of NA values and columns with NA values\n",
    "total_na = na_counts.sum()\n",
    "print(f\"Total number of NA values in selected_data: {total_na}\")\n",
    "if not na_columns.empty:\n",
    "    print(\"Columns with NA values and their counts:\")\n",
    "    print(na_columns)\n",
    "else:\n",
    "    print(\"No NA values in selected_data.\")"
   ]
  },
  {
   "cell_type": "code",
   "execution_count": 56,
   "id": "8c3a2c9c-e955-4866-b27a-4b4d38b3f285",
   "metadata": {},
   "outputs": [
    {
     "name": "stderr",
     "output_type": "stream",
     "text": [
      "C:\\Users\\x.ying1\\AppData\\Local\\Temp\\ipykernel_31680\\2335237837.py:15: SettingWithCopyWarning: \n",
      "A value is trying to be set on a copy of a slice from a DataFrame.\n",
      "Try using .loc[row_indexer,col_indexer] = value instead\n",
      "\n",
      "See the caveats in the documentation: https://pandas.pydata.org/pandas-docs/stable/user_guide/indexing.html#returning-a-view-versus-a-copy\n",
      "  selected_data[num_cols] = (\n",
      "C:\\Users\\x.ying1\\AppData\\Local\\Temp\\ipykernel_31680\\2335237837.py:20: SettingWithCopyWarning: \n",
      "A value is trying to be set on a copy of a slice from a DataFrame.\n",
      "Try using .loc[row_indexer,col_indexer] = value instead\n",
      "\n",
      "See the caveats in the documentation: https://pandas.pydata.org/pandas-docs/stable/user_guide/indexing.html#returning-a-view-versus-a-copy\n",
      "  selected_data[num_cols] = selected_data[num_cols].fillna(selected_data[num_cols].median())\n"
     ]
    },
    {
     "name": "stdout",
     "output_type": "stream",
     "text": [
      "Total number of NA values in selected_data after filling: 0\n",
      "No NA values in selected_data after filling.\n"
     ]
    }
   ],
   "source": [
    "import numpy as np\n",
    "\n",
    "np.random.seed(42)\n",
    "\n",
    "def bootstrap_impute(series):\n",
    "    observed = series.dropna()\n",
    "    n_missing = series.isna().sum()\n",
    "    if n_missing > 0 and len(observed) > 0:\n",
    "        imputed_values = np.random.choice(observed, size=n_missing, replace=True)\n",
    "        series.loc[series.isna()] = imputed_values\n",
    "    return series\n",
    "\n",
    "num_cols = selected_data.columns[13:]\n",
    "\n",
    "selected_data[num_cols] = (\n",
    "    selected_data.groupby(\"Status_at_draw\", group_keys=False)[num_cols]\n",
    "    .apply(lambda g: g.apply(bootstrap_impute, axis=0))\n",
    ")\n",
    "\n",
    "selected_data[num_cols] = selected_data[num_cols].fillna(selected_data[num_cols].median())\n",
    "\n",
    "na_counts_after = selected_data[num_cols].isna().sum()\n",
    "total_na_after = na_counts_after.sum()\n",
    "print(f\"Total number of NA values in selected_data after filling: {total_na_after}\")\n",
    "\n",
    "if not na_counts_after[na_counts_after > 0].empty:\n",
    "    print(\"Columns with remaining NA values and their counts:\")\n",
    "    print(na_counts_after[na_counts_after > 0])\n",
    "else:\n",
    "    print(\"No NA values in selected_data after filling.\")"
   ]
  },
  {
   "cell_type": "code",
   "execution_count": null,
   "id": "2e3eb458-d648-45db-bcb2-b5b673cbe830",
   "metadata": {},
   "outputs": [],
   "source": []
  },
  {
   "cell_type": "code",
   "execution_count": null,
   "id": "aa40c23d-eafe-4749-a777-cb71362beb78",
   "metadata": {},
   "outputs": [],
   "source": []
  },
  {
   "cell_type": "markdown",
   "id": "2b10d142-948b-423c-bef9-eef643ca3ec2",
   "metadata": {},
   "source": [
    "### Logistic Regression"
   ]
  },
  {
   "cell_type": "markdown",
   "id": "2d1eb765-6303-436c-aba8-7092150da308",
   "metadata": {},
   "source": [
    "#### ptau217"
   ]
  },
  {
   "cell_type": "code",
   "execution_count": 57,
   "id": "2a63eb32-5902-418a-9113-f2e8a592ab83",
   "metadata": {},
   "outputs": [
    {
     "data": {
      "text/plain": [
       "Age_at_draw\n",
       "72.0    84\n",
       "71.0    83\n",
       "73.0    83\n",
       "74.0    78\n",
       "70.0    73\n",
       "        ..\n",
       "44.1     1\n",
       "71.5     1\n",
       "51.7     1\n",
       "48.1     1\n",
       "57.6     1\n",
       "Name: count, Length: 321, dtype: int64"
      ]
     },
     "execution_count": 57,
     "metadata": {},
     "output_type": "execute_result"
    }
   ],
   "source": [
    "selected_data['Age_at_draw'].value_counts()"
   ]
  },
  {
   "cell_type": "code",
   "execution_count": 58,
   "id": "304ed106-6094-4c6e-acb4-cac0923a551b",
   "metadata": {},
   "outputs": [
    {
     "data": {
      "text/plain": [
       "Sex\n",
       "Male      1089\n",
       "Female    1054\n",
       "F           50\n",
       "M           37\n",
       "Name: count, dtype: int64"
      ]
     },
     "execution_count": 58,
     "metadata": {},
     "output_type": "execute_result"
    }
   ],
   "source": [
    "selected_data['Sex'].value_counts()"
   ]
  },
  {
   "cell_type": "code",
   "execution_count": 59,
   "id": "71e965d8-e8f8-4b13-a204-5ef89029abab",
   "metadata": {},
   "outputs": [
    {
     "data": {
      "text/plain": [
       "T1_pTau217\n",
       "T-    248\n",
       "T+    152\n",
       "Name: count, dtype: int64"
      ]
     },
     "execution_count": 59,
     "metadata": {},
     "output_type": "execute_result"
    }
   ],
   "source": [
    "selected_data['T1_pTau217'].value_counts()"
   ]
  },
  {
   "cell_type": "code",
   "execution_count": 71,
   "id": "754ec05f-2a75-462b-b53e-e3bd5e07ffeb",
   "metadata": {},
   "outputs": [
    {
     "name": "stdout",
     "output_type": "stream",
     "text": [
      "Status_at_draw Value Counts:\n",
      " Status_at_draw\n",
      "AD    744\n",
      "CO    665\n",
      "Name: count, dtype: int64\n",
      "Sex Value Counts:\n",
      " Sex\n",
      "0    223\n",
      "1    164\n",
      "Name: count, dtype: int64\n",
      "T1_pTau217 Value Counts:\n",
      " T1_pTau217\n",
      "0    239\n",
      "1    148\n",
      "Name: count, dtype: int64\n",
      "    Age_at_draw  Sex  T1_pTau217\n",
      "83         73.0    1           0\n",
      "84         68.0    1           0\n",
      "85         70.0    0           0\n",
      "86         66.0    0           0\n",
      "88         70.0    0           0\n",
      "Class Labels: ['AD' 'CO']\n",
      "Accuracy: 84.62%\n",
      "Balanced Accuracy: 74.20%\n",
      "Macro F1-score: 0.7565\n",
      "Classification Report:\n",
      "               precision    recall  f1-score   support\n",
      "\n",
      "           0     0.6667    0.5600    0.6087        25\n",
      "           1     0.8854    0.9239    0.9043        92\n",
      "\n",
      "    accuracy                         0.8462       117\n",
      "   macro avg     0.7760    0.7420    0.7565       117\n",
      "weighted avg     0.8387    0.8462    0.8411       117\n",
      "\n",
      "ROC AUC Score: 0.9096\n"
     ]
    }
   ],
   "source": [
    "from sklearn.linear_model import LogisticRegression\n",
    "from sklearn.model_selection import train_test_split\n",
    "from sklearn.metrics import classification_report, accuracy_score, roc_auc_score, f1_score, balanced_accuracy_score\n",
    "from sklearn.preprocessing import LabelEncoder\n",
    "import numpy as np\n",
    "import pandas as pd\n",
    "\n",
    "# Set random seed for reproducibility\n",
    "np.random.seed(42)\n",
    "\n",
    "# Step 1: Filter the dataset to include only 'CO' and 'AD' samples\n",
    "filtered_data_new = selected_data[selected_data['Status_at_draw'].isin(['CO', 'AD'])]\n",
    "# filtered_data_new = selected_data[selected_data['Status_at_draw'].isin(['CO', 'PD'])]\n",
    "\n",
    "# Show the distribution of 'Status_at_draw' after filtering\n",
    "print(\"Status_at_draw Value Counts:\\n\", filtered_data_new['Status_at_draw'].value_counts())\n",
    "\n",
    "# Step 2: Drop samples with missing values in the required columns\n",
    "filtered_data_new = filtered_data_new.dropna(subset=['Age_at_draw', 'Sex', 'T1_pTau217'])\n",
    "\n",
    "# Step 3: Convert 'Sex' from 'F'/'M' to 'Female'/'Male'\n",
    "filtered_data_new['Sex'] = filtered_data_new['Sex'].replace({\n",
    "    'F': 'Female',\n",
    "    'M': 'Male'\n",
    "})\n",
    "\n",
    "# filtered_data_new['Status_at_draw'] = filtered_data_new['Status_at_draw'].map({'CO': 0, 'AD': 1})\n",
    "# filtered_data_new['Status_at_draw'] = filtered_data_new['Status_at_draw'].map({'CO': 1, 'AD': 0})\n",
    "\n",
    "# Step 4: Encode 'Sex' into numerical values: 0 = Female, 1 = Male\n",
    "filtered_data_new['Sex'] = filtered_data_new['Sex'].map({'Female': 0, 'Male': 1})\n",
    "\n",
    "# Step 5: Encode 'T1_pTau217' into numerical values: 0 = T-, 1 = T+\n",
    "filtered_data_new['T1_pTau217'] = filtered_data_new['T1_pTau217'].map({'T-': 0, 'T+': 1})\n",
    "\n",
    "# Step 6: Check distributions after encoding\n",
    "print(\"Sex Value Counts:\\n\", filtered_data_new['Sex'].value_counts())\n",
    "print(\"T1_pTau217 Value Counts:\\n\", filtered_data_new['T1_pTau217'].value_counts())\n",
    "\n",
    "# Step 7: Define features and label\n",
    "X = filtered_data_new[['Age_at_draw', 'Sex', 'T1_pTau217']]\n",
    "print(X.head())\n",
    "y = filtered_data_new['Status_at_draw']\n",
    "\n",
    "# Drop rows with missing feature values (if any)\n",
    "X = X.dropna()\n",
    "y = y.loc[X.index]  # Align y with the filtered X\n",
    "\n",
    "# Step 8: Encode categorical labels to numerical format\n",
    "label_encoder = LabelEncoder()\n",
    "y_encoded = label_encoder.fit_transform(y)\n",
    "# y_encoded = y\n",
    "\n",
    "# Step 9: Split the dataset into training and testing sets (stratified)\n",
    "X_train, X_test, y_train, y_test = train_test_split(\n",
    "    X, y_encoded, test_size=0.3, random_state=42, stratify=y_encoded\n",
    ")\n",
    "\n",
    "# Step 10: Train logistic regression model\n",
    "model = LogisticRegression(max_iter=1000, random_state=42)\n",
    "model.fit(X_train, y_train)\n",
    "\n",
    "# Display the mapping from encoded labels back to original class names\n",
    "class_labels = label_encoder.inverse_transform(np.unique(y_encoded))\n",
    "print(\"Class Labels:\", class_labels)\n",
    "\n",
    "# Step 11: Make predictions and compute probability scores\n",
    "y_pred = model.predict(X_test)\n",
    "y_pred_proba = model.predict_proba(X_test)[:, 1]  # Probability for class 1 (usually AD)\n",
    "\n",
    "# Step 12: Evaluate performance\n",
    "accuracy = accuracy_score(y_test, y_pred)\n",
    "balanced_acc = balanced_accuracy_score(y_test, y_pred)\n",
    "f1_macro = f1_score(y_test, y_pred, average=\"macro\")\n",
    "auc_score = roc_auc_score(y_test, y_pred_proba)\n",
    "\n",
    "# Step 13: Print performance metrics\n",
    "print(f\"Accuracy: {accuracy * 100:.2f}%\")\n",
    "print(f\"Balanced Accuracy: {balanced_acc * 100:.2f}%\")\n",
    "print(f\"Macro F1-score: {f1_macro:.4f}\")\n",
    "print(\"Classification Report:\\n\", classification_report(y_test, y_pred, digits=4))\n",
    "print(f\"ROC AUC Score: {auc_score:.4f}\")\n"
   ]
  },
  {
   "cell_type": "code",
   "execution_count": 66,
   "id": "db273370-f9df-4365-a203-e9cb0e6d1e47",
   "metadata": {},
   "outputs": [
    {
     "name": "stdout",
     "output_type": "stream",
     "text": [
      "\n",
      "[Final Sample Distributions Used in Model]\n",
      "\n",
      "Status_at_draw Distribution:\n",
      "Status_at_draw\n",
      "CO     304\n",
      "FTD      2\n",
      "Name: count, dtype: int64\n",
      "\n",
      "Sex Distribution:\n",
      "Sex\n",
      "Female    182\n",
      "Male      124\n",
      "Name: count, dtype: int64\n",
      "\n",
      "T1_pTau217 Distribution:\n",
      "T1_pTau217\n",
      "T-    238\n",
      "T+     68\n",
      "Name: count, dtype: int64\n"
     ]
    }
   ],
   "source": [
    "X_final = pd.concat([X_train, X_test])\n",
    "y_final = pd.Series(np.concatenate([y_train, y_test]), index=X_final.index)\n",
    "y_final_labels = label_encoder.inverse_transform(y_final)\n",
    "\n",
    "X_final['Status_at_draw'] = y_final_labels\n",
    "\n",
    "print(\"\\n[Final Sample Distributions Used in Model]\")\n",
    "\n",
    "# Status_at_draw distribution\n",
    "print(\"\\nStatus_at_draw Distribution:\")\n",
    "print(X_final['Status_at_draw'].value_counts())\n",
    "\n",
    "# Sex distribution (0 = Female, 1 = Male)\n",
    "print(\"\\nSex Distribution:\")\n",
    "print(X_final['Sex'].map({0: 'Female', 1: 'Male'}).value_counts())\n",
    "\n",
    "# T1_pTau217 distribution (0 = T-, 1 = T+)\n",
    "print(\"\\nT1_pTau217 Distribution:\")\n",
    "print(X_final['T1_pTau217'].map({0: 'T-', 1: 'T+'}).value_counts())"
   ]
  },
  {
   "cell_type": "code",
   "execution_count": 67,
   "id": "580e7f36-7ebe-4754-ac72-cc9059e02513",
   "metadata": {},
   "outputs": [
    {
     "name": "stdout",
     "output_type": "stream",
     "text": [
      "\n",
      "[Final Performance Metrics]\n",
      "Accuracy     : 98.9%\n",
      "AUC          : 0.495\n",
      "Specificity  : 1.000\n",
      "Sensitivity  : 0.000\n"
     ]
    }
   ],
   "source": [
    "from sklearn.metrics import confusion_matrix\n",
    "\n",
    "conf_matrix = confusion_matrix(y_test, y_pred)\n",
    "\n",
    "tn, fp, fn, tp = conf_matrix.ravel()\n",
    "\n",
    "sensitivity = tp / (tp + fn) if (tp + fn) > 0 else 0  # True Positive Rate / Recall\n",
    "specificity = tn / (tn + fp) if (tn + fp) > 0 else 0  # True Negative Rate\n",
    "\n",
    "print(\"\\n[Final Performance Metrics]\")\n",
    "print(f\"Accuracy     : {accuracy * 100:.1f}%\")\n",
    "print(f\"AUC          : {auc_score:.3f}\")\n",
    "print(f\"Specificity  : {specificity:.3f}\")\n",
    "print(f\"Sensitivity  : {sensitivity:.3f}\")\n"
   ]
  },
  {
   "cell_type": "code",
   "execution_count": 68,
   "id": "4ad64f05-2310-435c-b768-0738d38b1c59",
   "metadata": {},
   "outputs": [
    {
     "data": {
      "text/plain": [
       "(91, 0, 1, 0)"
      ]
     },
     "execution_count": 68,
     "metadata": {},
     "output_type": "execute_result"
    }
   ],
   "source": [
    "tn, fp, fn, tp"
   ]
  },
  {
   "cell_type": "code",
   "execution_count": 69,
   "id": "7917763c-7b85-4266-a2db-1843e5a90e25",
   "metadata": {},
   "outputs": [
    {
     "data": {
      "text/plain": [
       "array([[91,  0],\n",
       "       [ 1,  0]], dtype=int64)"
      ]
     },
     "execution_count": 69,
     "metadata": {},
     "output_type": "execute_result"
    }
   ],
   "source": [
    "conf_matrix"
   ]
  },
  {
   "cell_type": "code",
   "execution_count": null,
   "id": "5e195f84-fe14-4375-b4fd-41b78f0b1df7",
   "metadata": {},
   "outputs": [],
   "source": []
  },
  {
   "cell_type": "code",
   "execution_count": null,
   "id": "6c847cce-320c-45c4-9840-cf934648f877",
   "metadata": {},
   "outputs": [],
   "source": []
  },
  {
   "cell_type": "markdown",
   "id": "da44c408-8cc5-4611-a5d5-550de9e1e535",
   "metadata": {},
   "source": [
    "#### Amyloid PET Imaging"
   ]
  },
  {
   "cell_type": "code",
   "execution_count": 39,
   "id": "a4573733-8331-42b4-bea8-28adcc7729ae",
   "metadata": {},
   "outputs": [
    {
     "data": {
      "text/plain": [
       "PET_imaging\n",
       "negative    677\n",
       "positive    233\n",
       "Name: count, dtype: int64"
      ]
     },
     "execution_count": 39,
     "metadata": {},
     "output_type": "execute_result"
    }
   ],
   "source": [
    "filtered_data['PET_imaging'].value_counts()"
   ]
  },
  {
   "cell_type": "code",
   "execution_count": 77,
   "id": "5704cbc1-86b4-4526-a6ef-6b50fd7bf43c",
   "metadata": {},
   "outputs": [
    {
     "name": "stdout",
     "output_type": "stream",
     "text": [
      "Status_at_draw Value Counts:\n",
      " Status_at_draw\n",
      "AD    744\n",
      "CO    665\n",
      "Name: count, dtype: int64\n",
      "Sex Value Counts:\n",
      " Sex\n",
      "0    189\n",
      "1    139\n",
      "Name: count, dtype: int64\n",
      "PET_imaging Value Counts:\n",
      " PET_imaging\n",
      "0    279\n",
      "1     49\n",
      "Name: count, dtype: int64\n",
      "Class Labels: ['AD' 'CO']\n",
      "\n",
      "[Final Performance Metrics]\n",
      "Accuracy     : 96.97%\n",
      "Balanced Accuracy: 94.68%\n",
      "AUC          : 0.989\n",
      "Specificity  : 0.917\n",
      "Sensitivity  : 0.977\n",
      "Classification Report:\n",
      "               precision    recall  f1-score   support\n",
      "\n",
      "           0     0.8462    0.9167    0.8800        12\n",
      "           1     0.9884    0.9770    0.9827        87\n",
      "\n",
      "    accuracy                         0.9697        99\n",
      "   macro avg     0.9173    0.9468    0.9313        99\n",
      "weighted avg     0.9711    0.9697    0.9702        99\n",
      "\n"
     ]
    }
   ],
   "source": [
    "from sklearn.linear_model import LogisticRegression\n",
    "from sklearn.model_selection import train_test_split\n",
    "from sklearn.metrics import (\n",
    "    classification_report, accuracy_score, roc_auc_score,\n",
    "    f1_score, balanced_accuracy_score, confusion_matrix\n",
    ")\n",
    "from sklearn.preprocessing import LabelEncoder\n",
    "import numpy as np\n",
    "import pandas as pd\n",
    "\n",
    "# Set random seed for reproducibility\n",
    "np.random.seed(42)\n",
    "\n",
    "# Step 1: Filter the dataset to include only 'CO' and 'AD' samples\n",
    "filtered_data_new = selected_data[selected_data['Status_at_draw'].isin(['CO', 'AD'])]\n",
    "# filtered_data_new = selected_data[selected_data['Status_at_draw'].isin(['CO', 'PD'])]\n",
    "\n",
    "# Show the distribution of 'Status_at_draw' after filtering\n",
    "print(\"Status_at_draw Value Counts:\\n\", filtered_data_new['Status_at_draw'].value_counts())\n",
    "\n",
    "# Step 2: Drop samples with missing values in the required columns\n",
    "filtered_data_new = filtered_data_new.dropna(subset=['Age_at_draw', 'Sex', 'PET_imaging'])\n",
    "\n",
    "# Step 3: Convert 'Sex' from 'F'/'M' to 'Female'/'Male'\n",
    "filtered_data_new['Sex'] = filtered_data_new['Sex'].replace({\n",
    "    'F': 'Female',\n",
    "    'M': 'Male'\n",
    "})\n",
    "\n",
    "# Step 4: Encode 'Sex' into numerical values: 0 = Female, 1 = Male\n",
    "filtered_data_new['Sex'] = filtered_data_new['Sex'].map({'Female': 0, 'Male': 1})\n",
    "\n",
    "# Step 5: Encode 'PET_imaging' into numerical values: 0 = negative, 1 = positive\n",
    "filtered_data_new['PET_imaging'] = filtered_data_new['PET_imaging'].map({'negative': 0, 'positive': 1})\n",
    "\n",
    "# Step 6: Check distributions after encoding\n",
    "print(\"Sex Value Counts:\\n\", filtered_data_new['Sex'].value_counts())\n",
    "print(\"PET_imaging Value Counts:\\n\", filtered_data_new['PET_imaging'].value_counts())\n",
    "\n",
    "# Step 7: Define features and label\n",
    "X = filtered_data_new[['Age_at_draw', 'Sex', 'PET_imaging']]\n",
    "y = filtered_data_new['Status_at_draw']\n",
    "\n",
    "# Drop rows with missing feature values (if any)\n",
    "X = X.dropna()\n",
    "y = y.loc[X.index]\n",
    "\n",
    "# Step 8: Encode categorical labels to numerical format\n",
    "label_encoder = LabelEncoder()\n",
    "y_encoded = label_encoder.fit_transform(y)\n",
    "\n",
    "# Step 9: Split the dataset into training and testing sets (stratified)\n",
    "X_train, X_test, y_train, y_test = train_test_split(\n",
    "    X, y_encoded, test_size=0.3, random_state=42, stratify=y_encoded\n",
    ")\n",
    "\n",
    "# Step 10: Train logistic regression model\n",
    "model = LogisticRegression(max_iter=1000, random_state=42)\n",
    "model.fit(X_train, y_train)\n",
    "\n",
    "# Display the class label mapping\n",
    "class_labels = label_encoder.inverse_transform(np.unique(y_encoded))\n",
    "print(\"Class Labels:\", class_labels)\n",
    "\n",
    "# Step 11: Predict and compute probabilities\n",
    "y_pred = model.predict(X_test)\n",
    "y_pred_proba = model.predict_proba(X_test)[:, 1]  # Probability for AD class\n",
    "\n",
    "# Step 12: Evaluation metrics\n",
    "accuracy = accuracy_score(y_test, y_pred)\n",
    "balanced_acc = balanced_accuracy_score(y_test, y_pred)\n",
    "f1_macro = f1_score(y_test, y_pred, average=\"macro\")\n",
    "auc_score = roc_auc_score(y_test, y_pred_proba)\n",
    "\n",
    "# Step 13: Specificity & Sensitivity\n",
    "conf_matrix = confusion_matrix(y_test, y_pred)\n",
    "tn, fp, fn, tp = conf_matrix.ravel()\n",
    "specificity = tn / (tn + fp) if (tn + fp) > 0 else 0\n",
    "sensitivity = tp / (tp + fn) if (tp + fn) > 0 else 0\n",
    "\n",
    "# Final Output\n",
    "print(\"\\n[Final Performance Metrics]\")\n",
    "print(f\"Accuracy     : {accuracy * 100:.2f}%\")\n",
    "print(f\"Balanced Accuracy: {balanced_acc * 100:.2f}%\")\n",
    "print(f\"AUC          : {auc_score:.3f}\")\n",
    "print(f\"Specificity  : {specificity:.3f}\")\n",
    "print(f\"Sensitivity  : {sensitivity:.3f}\")\n",
    "print(\"Classification Report:\\n\", classification_report(y_test, y_pred, digits=4))"
   ]
  },
  {
   "cell_type": "code",
   "execution_count": 75,
   "id": "e14b686c-c912-46dc-bb8e-f7670e5db6c2",
   "metadata": {},
   "outputs": [
    {
     "name": "stdout",
     "output_type": "stream",
     "text": [
      "\n",
      "[Final Sample Distributions Used in Model]\n",
      "\n",
      "Status_at_draw Distribution:\n",
      "Status_at_draw\n",
      "CO     287\n",
      "FTD      2\n",
      "Name: count, dtype: int64\n",
      "\n",
      "Sex Distribution:\n",
      "Sex\n",
      "Female    167\n",
      "Male      122\n",
      "Name: count, dtype: int64\n",
      "\n",
      "PET_imaging Distribution:\n",
      "PET_imaging\n",
      "negative    277\n",
      "positive     12\n",
      "Name: count, dtype: int64\n"
     ]
    }
   ],
   "source": [
    "X_final = pd.concat([X_train, X_test])\n",
    "y_final = pd.Series(np.concatenate([y_train, y_test]), index=X_final.index)\n",
    "y_final_labels = label_encoder.inverse_transform(y_final)\n",
    "\n",
    "X_final['Status_at_draw'] = y_final_labels\n",
    "\n",
    "print(\"\\n[Final Sample Distributions Used in Model]\")\n",
    "\n",
    "# Status_at_draw distribution\n",
    "print(\"\\nStatus_at_draw Distribution:\")\n",
    "print(X_final['Status_at_draw'].value_counts())\n",
    "\n",
    "# Sex distribution (0 = Female, 1 = Male)\n",
    "print(\"\\nSex Distribution:\")\n",
    "print(X_final['Sex'].map({0: 'Female', 1: 'Male'}).value_counts())\n",
    "\n",
    "print(\"\\nPET_imaging Distribution:\")\n",
    "print(X_final['PET_imaging'].map({0: 'negative', 1: 'positive'}).value_counts())"
   ]
  },
  {
   "cell_type": "code",
   "execution_count": null,
   "id": "41884810-4b5c-4fc8-af97-b21966b5c33e",
   "metadata": {},
   "outputs": [],
   "source": []
  },
  {
   "cell_type": "code",
   "execution_count": null,
   "id": "2cab46f8-cbff-46a6-80b3-8bff9aedace1",
   "metadata": {},
   "outputs": [],
   "source": []
  }
 ],
 "metadata": {
  "kernelspec": {
   "display_name": "Python 3 (ipykernel)",
   "language": "python",
   "name": "python3"
  },
  "language_info": {
   "codemirror_mode": {
    "name": "ipython",
    "version": 3
   },
   "file_extension": ".py",
   "mimetype": "text/x-python",
   "name": "python",
   "nbconvert_exporter": "python",
   "pygments_lexer": "ipython3",
   "version": "3.12.7"
  }
 },
 "nbformat": 4,
 "nbformat_minor": 5
}
