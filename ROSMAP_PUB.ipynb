{
 "cells": [
  {
   "cell_type": "markdown",
   "id": "dff20773-e32f-46db-a31b-17b32d2c6169",
   "metadata": {},
   "source": [
    "### Data Loader"
   ]
  },
  {
   "cell_type": "code",
   "execution_count": 1,
   "id": "869b24b4-69df-4110-adae-8b8f5a7eefd7",
   "metadata": {},
   "outputs": [
    {
     "data": {
      "text/plain": [
       "(973, 7290)"
      ]
     },
     "execution_count": 1,
     "metadata": {},
     "output_type": "execute_result"
    }
   ],
   "source": [
    "import pandas as pd\n",
    "plasma_data = pd.read_csv(\"OhNM2025_ROSMAP_plasma_Soma7k_protein_level_log10.csv\")\n",
    "plasma_data.shape"
   ]
  },
  {
   "cell_type": "code",
   "execution_count": 2,
   "id": "ab541187-8760-4a23-a075-f9bb97f0016f",
   "metadata": {},
   "outputs": [
    {
     "data": {
      "text/plain": [
       "(973, 20)"
      ]
     },
     "execution_count": 2,
     "metadata": {},
     "output_type": "execute_result"
    }
   ],
   "source": [
    "phenotype_data = pd.read_csv(\"OhNM2025_ROSMAP_plasma_Soma7k_sample_metadata.csv\")\n",
    "phenotype_data.shape"
   ]
  },
  {
   "cell_type": "code",
   "execution_count": 3,
   "id": "fda1c7e6-f770-41c0-ac20-b7005ec8a436",
   "metadata": {},
   "outputs": [],
   "source": [
    "# phenotype_data"
   ]
  },
  {
   "cell_type": "code",
   "execution_count": 4,
   "id": "40e2a06d-9e9f-418b-9b49-1472fd79bc7d",
   "metadata": {},
   "outputs": [],
   "source": [
    "merged_data = pd.merge(plasma_data, phenotype_data, on='projid_visit', how='left')\n",
    "# merged_data"
   ]
  },
  {
   "cell_type": "code",
   "execution_count": 5,
   "id": "1077f325-dd76-48f3-9250-65919e01a6db",
   "metadata": {},
   "outputs": [
    {
     "name": "stdout",
     "output_type": "stream",
     "text": [
      "  Diagnosis    N    Female (%) Age Mean (SD)\n",
      "0        AD  167  118 (70.66%)    87.8 (6.2)\n",
      "1       AD+   17   11 (64.71%)    90.5 (4.4)\n",
      "2       MCI  262  178 (67.94%)    86.9 (6.2)\n",
      "3      MCI+   10    5 (50.00%)    86.0 (7.4)\n",
      "4       NCI  507  335 (66.07%)    84.6 (6.2)\n",
      "5   OthrDem   10    6 (60.00%)    86.7 (4.8)\n"
     ]
    }
   ],
   "source": [
    "import pandas as pd\n",
    "\n",
    "summary_list = []\n",
    "\n",
    "for diagnosis, group in merged_data.groupby('Diagnosis'):\n",
    "    n_total = group['projid_visit'].nunique()\n",
    "    n_female = group[group['msex'] == 0]['projid'].nunique()\n",
    "    female_percent = (n_female / n_total) * 100 if n_total > 0 else 0\n",
    "\n",
    "    age_mean = group['age_at_visit'].mean()\n",
    "    age_std = group['age_at_visit'].std()\n",
    "\n",
    "    summary_list.append({\n",
    "        'Diagnosis': diagnosis,\n",
    "        'N': n_total,\n",
    "        'Female (%)': f\"{n_female} ({female_percent:.2f}%)\",\n",
    "        'Age Mean (SD)': f\"{age_mean:.1f} ({age_std:.1f})\"\n",
    "    })\n",
    "\n",
    "summary_df = pd.DataFrame(summary_list).sort_values(by='Diagnosis')\n",
    "\n",
    "print(summary_df)"
   ]
  },
  {
   "cell_type": "code",
   "execution_count": 6,
   "id": "d5d9a2f4-5189-4b21-baa3-2d19365c901e",
   "metadata": {},
   "outputs": [],
   "source": [
    "import pandas as pd\n",
    "import re\n",
    "\n",
    "def rename_columns(df):\n",
    "    new_columns = []\n",
    "    for col in df.columns:\n",
    "        if re.match(r'^\\d+-\\d+$', col):\n",
    "            new_col = 'X' + col.replace('-', '.')\n",
    "        else:\n",
    "            new_col = col\n",
    "        new_columns.append(new_col)\n",
    "    df.columns = new_columns\n",
    "    return df\n",
    "\n",
    "merged_data = rename_columns(merged_data)"
   ]
  },
  {
   "cell_type": "code",
   "execution_count": 7,
   "id": "8b9475be-0d67-490f-8bf0-529843d4f76b",
   "metadata": {},
   "outputs": [],
   "source": [
    "# merged_data"
   ]
  },
  {
   "cell_type": "code",
   "execution_count": 8,
   "id": "822c4bb3-2b96-4005-bcf2-442c3b01e796",
   "metadata": {},
   "outputs": [],
   "source": [
    "from scipy.stats import zscore\n",
    "x_cols = [col for col in merged_data.columns if col.startswith('X')]\n",
    "merged_data[x_cols] = merged_data[x_cols].apply(zscore, nan_policy='omit')"
   ]
  },
  {
   "cell_type": "code",
   "execution_count": 9,
   "id": "d7c1d77c-11ce-4c8d-a2a8-b50de815ba87",
   "metadata": {},
   "outputs": [],
   "source": [
    "# merged_data"
   ]
  },
  {
   "cell_type": "code",
   "execution_count": null,
   "id": "58fa2ef4-8afa-4c82-8ded-b8d20e1958a0",
   "metadata": {},
   "outputs": [],
   "source": []
  },
  {
   "cell_type": "code",
   "execution_count": null,
   "id": "0c551b5a-9913-46c5-bd21-c92b119ebef3",
   "metadata": {},
   "outputs": [],
   "source": []
  },
  {
   "cell_type": "markdown",
   "id": "68f9994b-7e9a-497d-8212-7233cc18ac32",
   "metadata": {},
   "source": [
    "### Modelling"
   ]
  },
  {
   "cell_type": "code",
   "execution_count": 12,
   "id": "e23c5cd5-85f1-4039-a028-1b7047f499ac",
   "metadata": {},
   "outputs": [],
   "source": [
    "filtered_data = merged_data.copy()"
   ]
  },
  {
   "cell_type": "code",
   "execution_count": 13,
   "id": "d2518314-0355-4235-82be-9b0a1a964d2c",
   "metadata": {},
   "outputs": [],
   "source": [
    "import joblib\n",
    "csf_lgbm_model = joblib.load(\"plasma_model_output/plasma_lgbm_model_700_0411.pkl\")"
   ]
  },
  {
   "cell_type": "code",
   "execution_count": 14,
   "id": "24b116d7-122d-4345-aac8-4e8b22f789c6",
   "metadata": {},
   "outputs": [
    {
     "name": "stdout",
     "output_type": "stream",
     "text": [
      "Total selected features: 701\n",
      "Existing features in dataset: 701\n"
     ]
    }
   ],
   "source": [
    "with open(\"plasma_model_output/plasma_selected_features_700_0411.txt\", \"r\") as f:\n",
    "    csf_selected_features = [line.strip() for line in f.readlines()]\n",
    "\n",
    "csf_selected_features.append('Diagnosis')\n",
    "\n",
    "existing_features = [feature for feature in csf_selected_features if feature in filtered_data.columns]\n",
    "\n",
    "selected_data = filtered_data[existing_features]\n",
    "\n",
    "print(f\"Total selected features: {len(csf_selected_features)}\")\n",
    "print(f\"Existing features in dataset: {len(existing_features)}\")"
   ]
  },
  {
   "cell_type": "code",
   "execution_count": 15,
   "id": "3b6a7630-3f8d-4238-8b54-9c5e2b7010e0",
   "metadata": {},
   "outputs": [
    {
     "data": {
      "text/plain": [
       "Diagnosis\n",
       "NCI        507\n",
       "MCI        262\n",
       "AD         167\n",
       "AD+         17\n",
       "MCI+        10\n",
       "OthrDem     10\n",
       "Name: count, dtype: int64"
      ]
     },
     "execution_count": 15,
     "metadata": {},
     "output_type": "execute_result"
    }
   ],
   "source": [
    "selected_data['Diagnosis'].value_counts()"
   ]
  },
  {
   "cell_type": "code",
   "execution_count": 16,
   "id": "f7bdbd70-e7d5-44fd-bf91-9938bf0edb44",
   "metadata": {},
   "outputs": [
    {
     "name": "stdout",
     "output_type": "stream",
     "text": [
      "(973, 700)\n",
      "Predicted Labels: [1 0 1 1 0 0 1 1 0 0 4 1 1 1 1 0 1 1 0 1 1 1 4 1 1 2 1 1 1 1 1 1 1 1 1 0 1\n",
      " 1 1 1 1 4 1 1 1 1 1 1 0 1 1 1 1 1 0 1 4 2 1 2 1 0 4 0 1 0 1 1 1 1 1 0 1 0\n",
      " 1 1 0 1 1 0 1 2 1 0 0 4 4 1 1 1 1 0 1 1 1 1 0 1 1 0 4 0 1 1 1 0 1 0 4 1 1\n",
      " 4 1 0 1 4 1 1 1 0 1 1 0 1 1 1 1 1 4 4 1 4 0 1 1 2 0 1 1 1 0 1 0 1 1 1 4 0\n",
      " 1 1 0 0 1 1 4 1 1 2 1 1 1 1 4 0 1 0 1 1 1 4 4 1 0 0 0 0 0 1 4 1 2 0 0 1 4\n",
      " 4 4 0 4 0 4 0 0 0 2 0 0 1 1 1 1 1 1 1 2 1 4 1 4 4 0 2 4 1 1 1 4 1 1 1 1 4\n",
      " 1 1 1 0 1 1 2 0 1 1 0 1 1 2 1 1 0 0 0 1 1 2 0 1 0 1 0 1 0 1 1 0 0 1 1 4 1\n",
      " 0 0 0 1 1 1 1 1 0 0 0 0 0 1 0 1 0 0 1 1 0 1 0 2 1 0 1 1 1 1 0 0 4 1 1 1 4\n",
      " 1 4 1 0 1 0 1 1 0 1 1 1 1 1 0 1 1 1 1 1 1 0 4 2 0 0 0 1 1 1 1 0 1 4 0 1 4\n",
      " 1 1 2 0 0 0 2 4 1 0 0 1 1 0 0 1 1 1 0 1 4 0 1 3 1 1 1 1 0 1 1 1 2 0 1 0 4\n",
      " 1 1 1 1 0 1 1 4 1 2 1 1 1 2 3 1 1 1 1 0 0 0 2 1 1 1 1 1 4 1 4 3 4 0 4 0 1\n",
      " 4 1 0 0 1 4 1 4 1 1 1 1 2 0 1 1 1 1 1 0 0 0 0 1 1 2 1 4 1 0 1 0 1 0 1 1 1\n",
      " 0 0 1 4 0 1 1 0 4 1 4 0 0 1 1 2 1 1 1 1 4 1 4 1 4 0 1 1 1 1 1 0 0 4 2 0 0\n",
      " 4 0 1 4 0 1 4 1 1 0 4 2 1 0 4 0 0 0 0 4 2 1 0 0 0 1 4 1 4 0 1 1 0 1 1 4 4\n",
      " 0 4 4 1 0 1 4 1 4 1 1 0 2 1 1 1 1 1 4 1 0 1 0 0 1 1 0 0 0 4 2 0 4 1 0 1 0\n",
      " 1 1 0 1 1 4 4 4 0 0 0 1 1 2 0 1 1 1 0 1 4 0 0 1 0 1 2 1 4 4 1 1 1 1 1 0 1\n",
      " 1 0 1 1 1 1 4 1 2 4 1 0 1 1 0 0 2 1 0 1 1 0 0 1 1 1 0 4 1 4 1 0 0 1 1 1 0\n",
      " 1 0 0 1 1 0 1 1 1 0 1 4 1 1 1 4 1 4 1 1 4 1 2 0 4 1 0 4 0 0 1 1 4 1 1 1 0\n",
      " 0 4 1 0 1 1 0 0 4 1 1 1 1 4 1 1 1 1 4 1 1 0 1 2 4 0 1 0 1 0 0 1 1 1 1 1 0\n",
      " 0 4 1 0 1 0 1 1 0 1 1 1 0 0 4 0 1 1 0 0 1 1 3 0 2 4 4 1 1 0 0 1 1 1 0 1 1\n",
      " 1 0 0 0 4 4 0 0 0 1 0 4 0 1 1 1 0 4 0 1 2 4 1 0 1 4 0 1 1 1 4 1 4 0 0 0 1\n",
      " 1 1 1 0 4 1 1 1 1 4 4 1 4 1 1 4 0 1 1 0 4 1 1 0 1 3 4 3 1 0 1 1 1 1 0 0 4\n",
      " 1 4 1 0 1 1 1 4 1 1 1 1 1 4 4 0 1 1 1 1 0 4 1 1 4 0 4 0 1 1 0 0 4 0 1 0 1\n",
      " 0 4 1 1 1 0 0 1 4 0 1 0 0 2 1 4 1 0 1 0 4 1 1 1 4 0 1 1 4 1 1 1 4 1 1 1 4\n",
      " 1 2 1 1 4 0 1 1 4 4 0 0 0 1 0 1 4 4 2 4 1 1 0 1 1 1 1 0 0 4 2 2 4 1 1 1 1\n",
      " 0 1 0 0 4 1 1 1 1 4 1 1 1 1 1 4 1 1 0 0 1 0 1 0 0 1 0 1 0 2 1 0 0 0 4 1 1\n",
      " 0 0 4 0 0 0 0 0 0 4 0]\n",
      "Predicted Probabilities:\n",
      " [[2.36741464e-01 7.34102273e-01 4.07358402e-04 9.81276663e-04\n",
      "  2.77676277e-02]\n",
      " [7.19794365e-01 2.46169791e-01 1.90012126e-02 8.12794263e-05\n",
      "  1.49533512e-02]\n",
      " [1.43890737e-04 9.99195219e-01 1.07217035e-04 1.15406440e-05\n",
      "  5.42133071e-04]\n",
      " ...\n",
      " [9.27282303e-01 1.38255449e-02 5.31455073e-02 1.75931111e-04\n",
      "  5.57071374e-03]\n",
      " [1.82496461e-02 4.30157385e-01 1.16357903e-03 3.92779027e-04\n",
      "  5.50036611e-01]\n",
      " [7.09840331e-01 2.73553714e-03 1.32858679e-02 2.28658345e-05\n",
      "  2.74115398e-01]]\n"
     ]
    }
   ],
   "source": [
    "X_new = selected_data.iloc[:, :-1]\n",
    "print(X_new.shape)\n",
    "\n",
    "X_new_log10_zscore = X_new\n",
    "\n",
    "y_pred = csf_lgbm_model.predict(X_new)\n",
    "y_pred_proba = csf_lgbm_model.predict_proba(X_new)\n",
    "\n",
    "print(\"Predicted Labels:\", y_pred)\n",
    "print(\"Predicted Probabilities:\\n\", y_pred_proba)"
   ]
  },
  {
   "cell_type": "code",
   "execution_count": 17,
   "id": "286bfc06-510d-4be0-9a01-378ce73ee58b",
   "metadata": {},
   "outputs": [
    {
     "data": {
      "text/html": [
       "<div>\n",
       "<style scoped>\n",
       "    .dataframe tbody tr th:only-of-type {\n",
       "        vertical-align: middle;\n",
       "    }\n",
       "\n",
       "    .dataframe tbody tr th {\n",
       "        vertical-align: top;\n",
       "    }\n",
       "\n",
       "    .dataframe thead th {\n",
       "        text-align: right;\n",
       "    }\n",
       "</style>\n",
       "<table border=\"1\" class=\"dataframe\">\n",
       "  <thead>\n",
       "    <tr style=\"text-align: right;\">\n",
       "      <th></th>\n",
       "      <th>UniquePhenoID</th>\n",
       "      <th>Status_at_draw</th>\n",
       "      <th>Predicted Class</th>\n",
       "      <th>AD Probability</th>\n",
       "      <th>CO Probability</th>\n",
       "      <th>DLB Probability</th>\n",
       "      <th>FTD Probability</th>\n",
       "      <th>PD Probability</th>\n",
       "    </tr>\n",
       "  </thead>\n",
       "  <tbody>\n",
       "    <tr>\n",
       "      <th>0</th>\n",
       "      <td>86177506_01</td>\n",
       "      <td>MCI</td>\n",
       "      <td>CO</td>\n",
       "      <td>0.236741</td>\n",
       "      <td>0.734102</td>\n",
       "      <td>0.000407</td>\n",
       "      <td>0.000981</td>\n",
       "      <td>0.027768</td>\n",
       "    </tr>\n",
       "    <tr>\n",
       "      <th>1</th>\n",
       "      <td>46369736_02</td>\n",
       "      <td>AD+</td>\n",
       "      <td>AD</td>\n",
       "      <td>0.719794</td>\n",
       "      <td>0.246170</td>\n",
       "      <td>0.019001</td>\n",
       "      <td>0.000081</td>\n",
       "      <td>0.014953</td>\n",
       "    </tr>\n",
       "    <tr>\n",
       "      <th>2</th>\n",
       "      <td>50402855_13</td>\n",
       "      <td>NCI</td>\n",
       "      <td>CO</td>\n",
       "      <td>0.000144</td>\n",
       "      <td>0.999195</td>\n",
       "      <td>0.000107</td>\n",
       "      <td>0.000012</td>\n",
       "      <td>0.000542</td>\n",
       "    </tr>\n",
       "    <tr>\n",
       "      <th>3</th>\n",
       "      <td>20267709_03</td>\n",
       "      <td>AD</td>\n",
       "      <td>CO</td>\n",
       "      <td>0.051487</td>\n",
       "      <td>0.907538</td>\n",
       "      <td>0.000393</td>\n",
       "      <td>0.000119</td>\n",
       "      <td>0.040463</td>\n",
       "    </tr>\n",
       "    <tr>\n",
       "      <th>4</th>\n",
       "      <td>77743003_00</td>\n",
       "      <td>AD</td>\n",
       "      <td>AD</td>\n",
       "      <td>0.797805</td>\n",
       "      <td>0.039519</td>\n",
       "      <td>0.031934</td>\n",
       "      <td>0.000653</td>\n",
       "      <td>0.130090</td>\n",
       "    </tr>\n",
       "    <tr>\n",
       "      <th>...</th>\n",
       "      <td>...</td>\n",
       "      <td>...</td>\n",
       "      <td>...</td>\n",
       "      <td>...</td>\n",
       "      <td>...</td>\n",
       "      <td>...</td>\n",
       "      <td>...</td>\n",
       "      <td>...</td>\n",
       "    </tr>\n",
       "    <tr>\n",
       "      <th>968</th>\n",
       "      <td>20544321_09</td>\n",
       "      <td>NCI</td>\n",
       "      <td>AD</td>\n",
       "      <td>0.983150</td>\n",
       "      <td>0.013625</td>\n",
       "      <td>0.002461</td>\n",
       "      <td>0.000038</td>\n",
       "      <td>0.000726</td>\n",
       "    </tr>\n",
       "    <tr>\n",
       "      <th>969</th>\n",
       "      <td>50107871_06</td>\n",
       "      <td>AD</td>\n",
       "      <td>AD</td>\n",
       "      <td>0.978746</td>\n",
       "      <td>0.000373</td>\n",
       "      <td>0.000759</td>\n",
       "      <td>0.000004</td>\n",
       "      <td>0.020119</td>\n",
       "    </tr>\n",
       "    <tr>\n",
       "      <th>970</th>\n",
       "      <td>94430339_02</td>\n",
       "      <td>MCI</td>\n",
       "      <td>AD</td>\n",
       "      <td>0.927282</td>\n",
       "      <td>0.013826</td>\n",
       "      <td>0.053146</td>\n",
       "      <td>0.000176</td>\n",
       "      <td>0.005571</td>\n",
       "    </tr>\n",
       "    <tr>\n",
       "      <th>971</th>\n",
       "      <td>52064033_03</td>\n",
       "      <td>NCI</td>\n",
       "      <td>PD</td>\n",
       "      <td>0.018250</td>\n",
       "      <td>0.430157</td>\n",
       "      <td>0.001164</td>\n",
       "      <td>0.000393</td>\n",
       "      <td>0.550037</td>\n",
       "    </tr>\n",
       "    <tr>\n",
       "      <th>972</th>\n",
       "      <td>10415168_10</td>\n",
       "      <td>AD+</td>\n",
       "      <td>AD</td>\n",
       "      <td>0.709840</td>\n",
       "      <td>0.002736</td>\n",
       "      <td>0.013286</td>\n",
       "      <td>0.000023</td>\n",
       "      <td>0.274115</td>\n",
       "    </tr>\n",
       "  </tbody>\n",
       "</table>\n",
       "<p>973 rows × 8 columns</p>\n",
       "</div>"
      ],
      "text/plain": [
       "    UniquePhenoID Status_at_draw Predicted Class  AD Probability  \\\n",
       "0     86177506_01            MCI              CO        0.236741   \n",
       "1     46369736_02            AD+              AD        0.719794   \n",
       "2     50402855_13            NCI              CO        0.000144   \n",
       "3     20267709_03             AD              CO        0.051487   \n",
       "4     77743003_00             AD              AD        0.797805   \n",
       "..            ...            ...             ...             ...   \n",
       "968   20544321_09            NCI              AD        0.983150   \n",
       "969   50107871_06             AD              AD        0.978746   \n",
       "970   94430339_02            MCI              AD        0.927282   \n",
       "971   52064033_03            NCI              PD        0.018250   \n",
       "972   10415168_10            AD+              AD        0.709840   \n",
       "\n",
       "     CO Probability  DLB Probability  FTD Probability  PD Probability  \n",
       "0          0.734102         0.000407         0.000981        0.027768  \n",
       "1          0.246170         0.019001         0.000081        0.014953  \n",
       "2          0.999195         0.000107         0.000012        0.000542  \n",
       "3          0.907538         0.000393         0.000119        0.040463  \n",
       "4          0.039519         0.031934         0.000653        0.130090  \n",
       "..              ...              ...              ...             ...  \n",
       "968        0.013625         0.002461         0.000038        0.000726  \n",
       "969        0.000373         0.000759         0.000004        0.020119  \n",
       "970        0.013826         0.053146         0.000176        0.005571  \n",
       "971        0.430157         0.001164         0.000393        0.550037  \n",
       "972        0.002736         0.013286         0.000023        0.274115  \n",
       "\n",
       "[973 rows x 8 columns]"
      ]
     },
     "execution_count": 17,
     "metadata": {},
     "output_type": "execute_result"
    }
   ],
   "source": [
    "UniquePhenoID = filtered_data['projid_visit']\n",
    "status_labels = selected_data['Diagnosis'].str.upper()\n",
    "y_pred_proba_df = pd.DataFrame(y_pred_proba, index=status_labels.index, columns=[f\"{label} Probability\" for label in ['AD', 'CO', 'DLB', 'FTD', 'PD']])\n",
    "\n",
    "predicted_classes = y_pred_proba_df.idxmax(axis=1).str.replace(' Probability', '')\n",
    "\n",
    "results_df = pd.DataFrame({\n",
    "    \"UniquePhenoID\": UniquePhenoID,\n",
    "    \"Status_at_draw\": status_labels,\n",
    "    \"Predicted Class\": predicted_classes\n",
    "    # \"Predicted Class\": label_encoder.inverse_transform(y_pred)\n",
    "})\n",
    "\n",
    "results_df = pd.concat([results_df, y_pred_proba_df], axis=1)\n",
    "results_df\n",
    "\n",
    "# results_df.to_csv(\"ROSMAP_Plasma_973_Prediction_Results_700.csv\", index=False)"
   ]
  },
  {
   "cell_type": "code",
   "execution_count": 18,
   "id": "a724ace5-4468-4239-9979-9e7b121ad0dc",
   "metadata": {},
   "outputs": [
    {
     "data": {
      "text/plain": [
       "Index(['UniquePhenoID', 'Status_at_draw', 'Predicted Class', 'AD Probability',\n",
       "       'CO Probability', 'DLB Probability', 'FTD Probability',\n",
       "       'PD Probability'],\n",
       "      dtype='object')"
      ]
     },
     "execution_count": 18,
     "metadata": {},
     "output_type": "execute_result"
    }
   ],
   "source": [
    "results_df.columns"
   ]
  },
  {
   "cell_type": "code",
   "execution_count": 19,
   "id": "48cb6738-5ca8-411a-9ef3-4ac90738ea3d",
   "metadata": {},
   "outputs": [
    {
     "data": {
      "text/plain": [
       "Status_at_draw\n",
       "NCI        507\n",
       "MCI        262\n",
       "AD         167\n",
       "AD+         17\n",
       "MCI+        10\n",
       "OTHRDEM     10\n",
       "Name: count, dtype: int64"
      ]
     },
     "execution_count": 19,
     "metadata": {},
     "output_type": "execute_result"
    }
   ],
   "source": [
    "results_df['Status_at_draw'].value_counts()"
   ]
  },
  {
   "cell_type": "code",
   "execution_count": 20,
   "id": "1ec0e26c-8f48-477b-b3bd-2665b1f46bb1",
   "metadata": {},
   "outputs": [
    {
     "name": "stdout",
     "output_type": "stream",
     "text": [
      "Predicted Label  AD   CO  DLB  FTD  PD\n",
      "True Label                            \n",
      "AD               97   42    6    1  21\n",
      "AD+               7    5    0    0   5\n",
      "MCI              86  115   15    1  45\n",
      "MCI+              2    6    1    0   1\n",
      "NCI              84  328   20    4  71\n",
      "OTHRDEM           1    5    1    0   3\n"
     ]
    }
   ],
   "source": [
    "import pandas as pd\n",
    "\n",
    "conf_matrix = pd.crosstab(results_df['Status_at_draw'], results_df['Predicted Class'], \n",
    "                          rownames=['True Label'], colnames=['Predicted Label'])\n",
    "\n",
    "print(conf_matrix)"
   ]
  },
  {
   "cell_type": "code",
   "execution_count": 21,
   "id": "7c6937fd-a876-4161-a96b-66156255cf4b",
   "metadata": {},
   "outputs": [
    {
     "name": "stdout",
     "output_type": "stream",
     "text": [
      "\n",
      "=== Confusion-derived metrics (AD vs CO) ===\n",
      "  Class  TP  FN  FP   TN  Sensitivity  Specificity  Accuracy\n",
      "0    AD  97  42  84  328        0.698        0.796     0.771\n"
     ]
    },
    {
     "data": {
      "image/png": "[encoded data removed]",
      "text/plain": [
       "<Figure size 600x600 with 1 Axes>"
      ]
     },
     "metadata": {},
     "output_type": "display_data"
    },
    {
     "data": {
      "image/png": "[encoded data removed]",
      "text/plain": [
       "<Figure size 500x400 with 1 Axes>"
      ]
     },
     "metadata": {},
     "output_type": "display_data"
    },
    {
     "data": {
      "image/png": "[encoded data removed]",
      "text/plain": [
       "<Figure size 500x400 with 1 Axes>"
      ]
     },
     "metadata": {},
     "output_type": "display_data"
    },
    {
     "name": "stdout",
     "output_type": "stream",
     "text": [
      "\n",
      "=== Summary (AD vs CO) ===\n",
      "AUC:        0.826  (95% CI 0.79–0.86)\n",
      "Accuracy:   0.771      (95% CI 0.736–0.806)\n",
      "Sensitivity:0.698\n",
      "Specificity:0.796\n"
     ]
    }
   ],
   "source": [
    "# -----------------------------------------------------------\n",
    "# ★  Input: results_df (contains true/predicted labels & probabilities)\n",
    "# -----------------------------------------------------------\n",
    "import numpy as np, pandas as pd, matplotlib.pyplot as plt\n",
    "from sklearn.preprocessing import LabelEncoder\n",
    "from sklearn.metrics import roc_curve, auc\n",
    "from matplotlib.lines import Line2D\n",
    "\n",
    "# 1) Map ground truth labels; keep only AD and CO samples -----\n",
    "mapping = {'AD': 'AD', 'NCI': 'CO'}\n",
    "results_bin = results_df.copy()\n",
    "results_bin['TrueBin'] = results_bin['Status_at_draw'].map(mapping)\n",
    "results_bin = results_bin.dropna(subset=['TrueBin'])  # Drop rows with other labels\n",
    "\n",
    "# 2) Filter predictions; keep only AD and CO -------------------\n",
    "results_bin = results_bin[results_bin['Predicted Class'].isin(['AD', 'CO'])]\n",
    "\n",
    "# 3) Prepare true labels, predicted labels, and probabilities --\n",
    "label_encoder = LabelEncoder().fit(['AD', 'CO'])\n",
    "y_true_lbl = results_bin['TrueBin'].values\n",
    "y_pred_lbl = results_bin['Predicted Class'].values\n",
    "\n",
    "# Extract probability of AD class\n",
    "if 'AD Probability' in results_bin.columns and 'CO Probability' in results_bin.columns:\n",
    "    prob_AD = results_bin['AD Probability'].values\n",
    "else:  # Only AD probability is available\n",
    "    prob_AD = results_bin['AD Probability'].values\n",
    "\n",
    "# Construct probability matrix: shape (n_samples × 2)\n",
    "results_bin_proba = np.vstack([prob_AD, 1 - prob_AD]).T\n",
    "\n",
    "# -----------------------------------------------------------\n",
    "# 4) Binary classification confusion matrix & metrics ---------\n",
    "TP = np.sum((y_pred_lbl == 'AD') & (y_true_lbl == 'AD'))\n",
    "FP = np.sum((y_pred_lbl == 'AD') & (y_true_lbl == 'CO'))\n",
    "FN = np.sum((y_pred_lbl == 'CO') & (y_true_lbl == 'AD'))\n",
    "TN = np.sum((y_pred_lbl == 'CO') & (y_true_lbl == 'CO'))\n",
    "N  = TP + FP + FN + TN\n",
    "\n",
    "sens = TP / (TP + FN) if TP + FN else np.nan\n",
    "spec = TN / (TN + FP) if TN + FP else np.nan\n",
    "acc  = (TP + TN) / N\n",
    "\n",
    "print(\"\\n=== Confusion-derived metrics (AD vs CO) ===\")\n",
    "print(pd.DataFrame([dict(Class='AD', TP=TP, FN=FN, FP=FP, TN=TN,\n",
    "                         Sensitivity=round(sens, 3),\n",
    "                         Specificity=round(spec, 3),\n",
    "                         Accuracy=round(acc, 3))]))\n",
    "\n",
    "# -----------------------------------------------------------\n",
    "# 5) ROC curve and AUC calculation ----------------------------\n",
    "y_true_bin = (y_true_lbl == 'AD').astype(int)\n",
    "fpr, tpr, _ = roc_curve(y_true_bin, prob_AD)\n",
    "auc_val     = auc(fpr, tpr)\n",
    "se_auc      = np.sqrt((auc_val * (1 - auc_val)) / N)\n",
    "ci_low, ci_up = auc_val - 1.96 * se_auc, auc_val + 1.96 * se_auc\n",
    "\n",
    "# Plot ROC curve\n",
    "plt.figure(figsize=(6, 6))\n",
    "plt.plot(fpr, tpr, color='blue', lw=2, label=f'AD (AUC = {auc_val:.2f})')\n",
    "plt.plot([0, 1], [0, 1], 'k--', lw=1.5)\n",
    "plt.xlabel('False Positive Rate', weight='bold')\n",
    "plt.ylabel('True Positive Rate', weight='bold')\n",
    "plt.title('ROC Curve: AD vs CO', weight='bold')\n",
    "plt.grid(False); plt.legend(); plt.tight_layout(); plt.show()\n",
    "\n",
    "# -----------------------------------------------------------\n",
    "# 6) AUC and Accuracy with 95% Confidence Intervals -----------\n",
    "# —— AUC CI plot\n",
    "plt.figure(figsize=(5, 4))\n",
    "plt.errorbar(auc_val, ['AD'], xerr=[[auc_val - ci_low], [ci_up - auc_val]],\n",
    "             fmt='s', color='blue', capsize=5)\n",
    "plt.xlim(0, 1); plt.xlabel('AUC'); plt.title('AUC ±95% CI'); plt.grid(False)\n",
    "plt.tight_layout(); plt.show()\n",
    "\n",
    "# —— Accuracy CI plot\n",
    "se_acc   = np.sqrt(acc * (1 - acc) / N)\n",
    "ci_low_a = acc - 1.96 * se_acc\n",
    "ci_up_a  = acc + 1.96 * se_acc\n",
    "plt.figure(figsize=(5, 4))\n",
    "plt.errorbar(acc, ['AD'], xerr=[[acc - ci_low_a], [ci_up_a - acc]],\n",
    "             fmt='s', color='blue', capsize=5)\n",
    "plt.xlim(0, 1); plt.xlabel('Accuracy'); plt.title('Accuracy ±95% CI'); plt.grid(False)\n",
    "plt.tight_layout(); plt.show()\n",
    "\n",
    "# -----------------------------------------------------------\n",
    "# 7) Print performance summary --------------------------------\n",
    "print(\"\\n=== Summary (AD vs CO) ===\")\n",
    "print(f\"AUC:        {auc_val:.3f}  (95% CI {ci_low:.2f}–{ci_up:.2f})\")\n",
    "print(f\"Accuracy:   {acc:.3f}      (95% CI {ci_low_a:.3f}–{ci_up_a:.3f})\")\n",
    "print(f\"Sensitivity:{sens:.3f}\")\n",
    "print(f\"Specificity:{spec:.3f}\")\n"
   ]
  },
  {
   "cell_type": "code",
   "execution_count": null,
   "id": "3c3a5fd6-dfe3-436e-a63f-4eeed793c815",
   "metadata": {},
   "outputs": [],
   "source": []
  },
  {
   "cell_type": "code",
   "execution_count": null,
   "id": "f1812049-041d-4893-9a4c-7fb3ce18c2ae",
   "metadata": {},
   "outputs": [],
   "source": []
  },
  {
   "cell_type": "code",
   "execution_count": null,
   "id": "685c5907-4eca-48aa-bcac-77e433217559",
   "metadata": {},
   "outputs": [],
   "source": []
  },
  {
   "cell_type": "code",
   "execution_count": null,
   "id": "61cd6d2d-41e5-4eb6-9033-7e1a7b3a2bc5",
   "metadata": {},
   "outputs": [],
   "source": []
  },
  {
   "cell_type": "code",
   "execution_count": null,
   "id": "25a48f59-de2a-44fe-b622-a61c5e6f9ef3",
   "metadata": {},
   "outputs": [],
   "source": []
  },
  {
   "cell_type": "code",
   "execution_count": null,
   "id": "38b169b0-1690-44ec-8dde-078fe16390c4",
   "metadata": {},
   "outputs": [],
   "source": []
  },
  {
   "cell_type": "code",
   "execution_count": null,
   "id": "82716b2f-ca67-4ee9-a7ea-46357517403c",
   "metadata": {},
   "outputs": [],
   "source": []
  },
  {
   "cell_type": "code",
   "execution_count": null,
   "id": "794bf47e-c0b8-4e83-afd1-85ac45b9e00a",
   "metadata": {},
   "outputs": [],
   "source": []
  },
  {
   "cell_type": "code",
   "execution_count": null,
   "id": "cd87039a-0b4f-47dc-bdce-50464b2b1207",
   "metadata": {},
   "outputs": [],
   "source": []
  }
 ],
 "metadata": {
  "kernelspec": {
   "display_name": "Python 3 (ipykernel)",
   "language": "python",
   "name": "python3"
  },
  "language_info": {
   "codemirror_mode": {
    "name": "ipython",
    "version": 3
   },
   "file_extension": ".py",
   "mimetype": "text/x-python",
   "name": "python",
   "nbconvert_exporter": "python",
   "pygments_lexer": "ipython3",
   "version": "3.12.7"
  }
 },
 "nbformat": 4,
 "nbformat_minor": 5
}
